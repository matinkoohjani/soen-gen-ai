{
 "cells": [
  {
   "cell_type": "code",
   "execution_count": null,
   "metadata": {},
   "source": [
    "import openai\n",
    "import os\n",
    "from openai import OpenAI\n",
    "\n",
    "# Set up API key\n",
    "os.environ[\"OPENAI_API_KEY\"] = \"\"\n",
    "\n",
    "# Set up client\n",
    "client = OpenAI()"
   ],
   "outputs": []
  },
  {
   "cell_type": "code",
   "execution_count": null,
   "metadata": {},
   "source": [
    "# Create and upload training dataset\n",
    "client.files.create(\n",
    "    file=open('', 'rb'),\n",
    "    purpose='fine-tune'\n",
    ")\n",
    "\n",
    "# Create and upload validation dataset\n",
    "client.files.create(\n",
    "    file=open('', 'rb'),\n",
    "    purpose='fine-tune'\n",
    ")"
   ],
   "outputs": []
  },
  {
   "cell_type": "code",
   "execution_count": null,
   "metadata": {},
   "source": [
    "# Run fine-tuning. Make sure you replace the training_file and validation_file ids into corresponding ones.\n",
    "client.fine_tuning.jobs.create(\n",
    "    training_file='',\n",
    "    validation_file='',\n",
    "    model='gpt-3.5-turbo'\n",
    ")"
   ],
   "outputs": []
  }
 ],
 "metadata": {
  "kernelspec": {
   "display_name": "Python 3",
   "language": "python",
   "name": "python3"
  },
  "language_info": {
   "codemirror_mode": {
    "name": "ipython",
    "version": 3
   },
   "file_extension": ".py",
   "mimetype": "text/x-python",
   "name": "python",
   "nbconvert_exporter": "python",
   "pygments_lexer": "ipython3",
   "version": "3.9.6"
  },
  "orig_nbformat": 4
 },
 "nbformat": 4,
 "nbformat_minor": 2
}
